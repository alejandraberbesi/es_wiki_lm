{
  "nbformat": 4,
  "nbformat_minor": 0,
  "metadata": {
    "colab": {
      "name": "wikipedia_model.ipynb",
      "provenance": [],
      "toc_visible": true,
      "authorship_tag": "ABX9TyPfUW8VnaFKKmWmnsTWiY/K"
    },
    "kernelspec": {
      "name": "python3",
      "display_name": "Python 3"
    },
    "accelerator": "GPU"
  },
  "cells": [
    {
      "cell_type": "markdown",
      "metadata": {
        "id": "X9CZGePic3VD",
        "colab_type": "text"
      },
      "source": [
        "# **Wikipedia spanish language model**"
      ]
    },
    {
      "cell_type": "code",
      "metadata": {
        "id": "hJs2N8y2IyU6",
        "colab_type": "code",
        "colab": {}
      },
      "source": [
        "!pip install fastai2"
      ],
      "execution_count": null,
      "outputs": []
    },
    {
      "cell_type": "code",
      "metadata": {
        "id": "XAs7ta87w44r",
        "colab_type": "code",
        "colab": {}
      },
      "source": [
        "!pip show fastai2"
      ],
      "execution_count": null,
      "outputs": []
    },
    {
      "cell_type": "code",
      "metadata": {
        "id": "_UO3DBcUyTV2",
        "colab_type": "code",
        "colab": {}
      },
      "source": [
        "#!pip install torch===1.6.0 torchvision===0.7.0 -f https://download.pytorch.org/whl/torch_stable.html"
      ],
      "execution_count": null,
      "outputs": []
    },
    {
      "cell_type": "code",
      "metadata": {
        "id": "TCM0-2g-ZKLg",
        "colab_type": "code",
        "colab": {}
      },
      "source": [
        "from google.colab import drive, files\n",
        "import os\n",
        "import re\n",
        "from pathlib import Path\n",
        "from fastai2.text.all import *\n",
        "import dill as pickle"
      ],
      "execution_count": null,
      "outputs": []
    },
    {
      "cell_type": "code",
      "metadata": {
        "id": "D6HMztMddV7m",
        "colab_type": "code",
        "colab": {}
      },
      "source": [
        "drive.mount('/content/drive/')"
      ],
      "execution_count": null,
      "outputs": []
    },
    {
      "cell_type": "markdown",
      "metadata": {
        "id": "dQLc4AoH9HEU",
        "colab_type": "text"
      },
      "source": [
        "### Data preparation (Files with results in drive)"
      ]
    },
    {
      "cell_type": "markdown",
      "metadata": {
        "id": "cL-GJbSP-9sO",
        "colab_type": "text"
      },
      "source": [
        "Connecting drive, train and test set organization, tokenization, numericalization and creation of LMDataLoader"
      ]
    },
    {
      "cell_type": "code",
      "metadata": {
        "id": "SgPf2sqP3gpV",
        "colab_type": "code",
        "colab": {}
      },
      "source": [
        "#to not show cell output-- too long\n",
        "%%capture\n",
        "!unzip -q \"/content/drive/My Drive/Colab Notebooks/TLAC/wiki_art.zip\""
      ],
      "execution_count": null,
      "outputs": []
    },
    {
      "cell_type": "code",
      "metadata": {
        "id": "LrqdHojAJ3By",
        "colab_type": "code",
        "colab": {}
      },
      "source": [
        "def set_organization(dset):\n",
        "  \n",
        "  path=\"/content/wiki_art/{}\".format(dset)\n",
        "\n",
        "  for filename in os.listdir(path):\n",
        "    os.rename(os.path.join(path, filename), os.path.join(path, re.sub('[^A-Za-z0-9]+(?![^.]*$)', '',filename)))\n",
        "\n",
        "  n_files = len(list(os.listdir(path)))\n",
        "  !ls $path\n",
        "  print(\"elements_{}_set={} \".format(dset,n_files))\n"
      ],
      "execution_count": null,
      "outputs": []
    },
    {
      "cell_type": "code",
      "metadata": {
        "id": "VdZIDPXs_9ev",
        "colab_type": "code",
        "colab": {}
      },
      "source": [
        "%%capture\n",
        "set_organization(\"train\")"
      ],
      "execution_count": null,
      "outputs": []
    },
    {
      "cell_type": "code",
      "metadata": {
        "id": "xg0xGrRqAwfH",
        "colab_type": "code",
        "colab": {}
      },
      "source": [
        "%%capture\n",
        "set_organization(\"test\")"
      ],
      "execution_count": null,
      "outputs": []
    },
    {
      "cell_type": "code",
      "metadata": {
        "id": "Fr0m4ZudEpwZ",
        "colab_type": "code",
        "colab": {}
      },
      "source": [
        "path = Path('/content/wiki_art')\n",
        "path.ls()"
      ],
      "execution_count": null,
      "outputs": []
    },
    {
      "cell_type": "code",
      "metadata": {
        "id": "f-wz728mlNbo",
        "colab_type": "code",
        "colab": {}
      },
      "source": [
        "texts = get_files(path, extensions=['.txt'], folders=['train', 'test'])"
      ],
      "execution_count": null,
      "outputs": []
    },
    {
      "cell_type": "code",
      "metadata": {
        "id": "-1tm3aUZsMGa",
        "colab_type": "code",
        "colab": {}
      },
      "source": [
        "def read_file(f): return L(f.read().split(' '))"
      ],
      "execution_count": null,
      "outputs": []
    },
    {
      "cell_type": "code",
      "metadata": {
        "id": "BJC1LzMksRUO",
        "colab_type": "code",
        "colab": {}
      },
      "source": [
        "splits = RandomSplitter(valid_pct=0.1)(texts)\n",
        "tfms = [Tokenizer.from_folder(path), Numericalize()]\n",
        "dsets = Datasets(texts, [tfms], splits=splits, dl_type=LMDataLoader)"
      ],
      "execution_count": null,
      "outputs": []
    },
    {
      "cell_type": "code",
      "metadata": {
        "id": "uqKvr28m4smm",
        "colab_type": "code",
        "colab": {}
      },
      "source": [
        "bs,sl=32,80\n",
        "dbunch_lm = dsets.dataloaders(bs=bs, seq_len=sl, val_bs=bs)"
      ],
      "execution_count": null,
      "outputs": []
    },
    {
      "cell_type": "code",
      "metadata": {
        "id": "OgCg1skT0UbS",
        "colab_type": "code",
        "colab": {}
      },
      "source": [
        "dbunch_lm.show_batch()"
      ],
      "execution_count": null,
      "outputs": []
    },
    {
      "cell_type": "code",
      "metadata": {
        "id": "GZgnzpNi3Joj",
        "colab_type": "code",
        "colab": {}
      },
      "source": [
        "pickle.dump(dsets, open(f'/content/dsets.pkl','wb'))"
      ],
      "execution_count": null,
      "outputs": []
    },
    {
      "cell_type": "code",
      "metadata": {
        "id": "RzMlfU35M7a8",
        "colab_type": "code",
        "colab": {}
      },
      "source": [
        "!zip -r \"/content/wiki_art_tok.zip\" \"/content/wiki_art_tok/\""
      ],
      "execution_count": null,
      "outputs": []
    },
    {
      "cell_type": "code",
      "metadata": {
        "id": "aRoBiHxd1Tb-",
        "colab_type": "code",
        "colab": {}
      },
      "source": [
        "!mv \"/content/dsets.pkl\" \"/content/drive/My Drive/Colab Notebooks/TLAC\""
      ],
      "execution_count": null,
      "outputs": []
    },
    {
      "cell_type": "code",
      "metadata": {
        "colab_type": "code",
        "id": "W678iNRD8FdJ",
        "colab": {}
      },
      "source": [
        "!mv \"/content/wiki_art_tok.zip\" \"/content/drive/My Drive/Colab Notebooks/TLAC\""
      ],
      "execution_count": null,
      "outputs": []
    },
    {
      "cell_type": "markdown",
      "metadata": {
        "id": "wfvzvPxA-zpW",
        "colab_type": "text"
      },
      "source": [
        "##Model\n",
        "\n"
      ]
    },
    {
      "cell_type": "markdown",
      "metadata": {
        "id": "ICds7CMkCHNX",
        "colab_type": "text"
      },
      "source": [
        "Importing folder with tokens from google drive, creation of dataloader and the model architecture"
      ]
    },
    {
      "cell_type": "code",
      "metadata": {
        "id": "ORpmn5in1_os",
        "colab_type": "code",
        "colab": {}
      },
      "source": [
        "!unzip -q \"/content/drive/My Drive/Colab Notebooks/TLAC/wiki_art_tok.zip\""
      ],
      "execution_count": null,
      "outputs": []
    },
    {
      "cell_type": "code",
      "metadata": {
        "id": "RQUAi6ytCpMt",
        "colab_type": "code",
        "colab": {}
      },
      "source": [
        "%%capture\n",
        "!unzip /content/wiki_art_tok.zip"
      ],
      "execution_count": null,
      "outputs": []
    },
    {
      "cell_type": "code",
      "metadata": {
        "id": "PELiq8kCGeki",
        "colab_type": "code",
        "colab": {}
      },
      "source": [
        "!mv \"/content/content/wiki_art_tok\" \"/content/\""
      ],
      "execution_count": null,
      "outputs": []
    },
    {
      "cell_type": "code",
      "metadata": {
        "id": "PV6v1wWC4k6_",
        "colab_type": "code",
        "colab": {}
      },
      "source": [
        "dsets = pickle.load(open(f'/content/drive/My Drive/Colab Notebooks/TLAC/dsets.pkl','rb'))"
      ],
      "execution_count": null,
      "outputs": []
    },
    {
      "cell_type": "code",
      "metadata": {
        "id": "8AasEbDD0Kf4",
        "colab_type": "code",
        "colab": {}
      },
      "source": [
        "bs,sl=32,80\n",
        "dbunch_lm = dsets.dataloaders(bs=bs, seq_len=sl, val_bs=bs)"
      ],
      "execution_count": null,
      "outputs": []
    },
    {
      "cell_type": "code",
      "metadata": {
        "id": "RX-sqvhAgAGY",
        "colab_type": "code",
        "colab": {
          "base_uri": "https://localhost:8080/",
          "height": 17
        },
        "outputId": "de285eb4-cf56-459a-eee4-20e997ce51eb"
      },
      "source": [
        "opt_func = partial(Adam, wd=0.1)\n",
        "learn = language_model_learner(dbunch_lm, AWD_LSTM, opt_func=opt_func, metrics=accuracy)\n",
        "learn = learn.to_fp16(clip=0.1)"
      ],
      "execution_count": null,
      "outputs": [
        {
          "output_type": "display_data",
          "data": {
            "text/html": [
              ""
            ],
            "text/plain": [
              "<IPython.core.display.HTML object>"
            ]
          },
          "metadata": {
            "tags": []
          }
        }
      ]
    },
    {
      "cell_type": "markdown",
      "metadata": {
        "id": "IdMbAoUk8HZv",
        "colab_type": "text"
      },
      "source": [
        "###Training (Files with results in drive)"
      ]
    },
    {
      "cell_type": "code",
      "metadata": {
        "id": "VVG3G7VmAWe_",
        "colab_type": "code",
        "colab": {}
      },
      "source": [
        "learn.lr_find()"
      ],
      "execution_count": null,
      "outputs": []
    },
    {
      "cell_type": "code",
      "metadata": {
        "id": "YU-YNiO30yKY",
        "colab_type": "code",
        "colab": {}
      },
      "source": [
        "learn.fit_one_cycle(1, 7e-2, moms=[0.8,0.7,0.8])"
      ],
      "execution_count": null,
      "outputs": []
    },
    {
      "cell_type": "code",
      "metadata": {
        "id": "X84diVyWIe-a",
        "colab_type": "code",
        "colab": {}
      },
      "source": [
        "learn.save('wm1')"
      ],
      "execution_count": null,
      "outputs": []
    },
    {
      "cell_type": "code",
      "metadata": {
        "id": "xLimtwCr5f2t",
        "colab_type": "code",
        "colab": {}
      },
      "source": [
        "!zip -r /content/models.zip /content/models"
      ],
      "execution_count": null,
      "outputs": []
    },
    {
      "cell_type": "code",
      "metadata": {
        "id": "VJbxnPgX5gDa",
        "colab_type": "code",
        "colab": {}
      },
      "source": [
        "files.download(\"/content/models.zip\")"
      ],
      "execution_count": null,
      "outputs": []
    },
    {
      "cell_type": "code",
      "metadata": {
        "id": "_-kNgFFZCoLR",
        "colab_type": "code",
        "colab": {}
      },
      "source": [
        "%%capture\n",
        "!unzip -q \"/content/drive/My Drive/Colab Notebooks/TLAC/models.zip\""
      ],
      "execution_count": null,
      "outputs": []
    },
    {
      "cell_type": "code",
      "metadata": {
        "id": "vwwV8eM0L_Ir",
        "colab_type": "code",
        "colab": {}
      },
      "source": [
        "!mv \"/content/content/models\" \"/content/\""
      ],
      "execution_count": null,
      "outputs": []
    },
    {
      "cell_type": "code",
      "metadata": {
        "id": "4NU196c4MTsN",
        "colab_type": "code",
        "colab": {}
      },
      "source": [
        "learn.load('wm1')"
      ],
      "execution_count": null,
      "outputs": []
    },
    {
      "cell_type": "code",
      "metadata": {
        "id": "LtA_DunM2ytQ",
        "colab_type": "code",
        "colab": {}
      },
      "source": [
        "learn.validate() #Return the calculated loss and the metrics of the model"
      ],
      "execution_count": null,
      "outputs": []
    }
  ]
}