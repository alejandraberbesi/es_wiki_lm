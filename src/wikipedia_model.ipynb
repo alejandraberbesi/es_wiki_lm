{
  "nbformat": 4,
  "nbformat_minor": 0,
  "metadata": {
    "colab": {
      "name": "wikipedia_model.ipynb",
      "provenance": [],
      "authorship_tag": "ABX9TyOactR9V2dWdbtrqRM7uXJO"
    },
    "kernelspec": {
      "name": "python3",
      "display_name": "Python 3"
    },
    "accelerator": "GPU"
  },
  "cells": [
    {
      "cell_type": "markdown",
      "metadata": {
        "id": "X9CZGePic3VD",
        "colab_type": "text"
      },
      "source": [
        "**Wikipedia spanish language model** "
      ]
    },
    {
      "cell_type": "code",
      "metadata": {
        "id": "2mAto-n4FNEc",
        "colab_type": "code",
        "colab": {}
      },
      "source": [
        "!git clone https://github.com/fastai/fastai2.git"
      ],
      "execution_count": null,
      "outputs": []
    },
    {
      "cell_type": "code",
      "metadata": {
        "id": "hJs2N8y2IyU6",
        "colab_type": "code",
        "colab": {}
      },
      "source": [
        "!pip install fastai2"
      ],
      "execution_count": null,
      "outputs": []
    },
    {
      "cell_type": "code",
      "metadata": {
        "id": "TCM0-2g-ZKLg",
        "colab_type": "code",
        "colab": {}
      },
      "source": [
        "from google.colab import drive, files\n",
        "import zipfile\n",
        "import os\n",
        "import re\n",
        "from pathlib import Path\n",
        "from fastai2.text.all import *\n",
        "import dill as pickle"
      ],
      "execution_count": null,
      "outputs": []
    },
    {
      "cell_type": "markdown",
      "metadata": {
        "id": "dQLc4AoH9HEU",
        "colab_type": "text"
      },
      "source": [
        "# Data preparation (Only run to create pickle file)"
      ]
    },
    {
      "cell_type": "markdown",
      "metadata": {
        "id": "cL-GJbSP-9sO",
        "colab_type": "text"
      },
      "source": [
        "Connecting drive, train and test set organization, tokenization, numericalization and creation of LMDataLoader"
      ]
    },
    {
      "cell_type": "code",
      "metadata": {
        "id": "D6HMztMddV7m",
        "colab_type": "code",
        "colab": {}
      },
      "source": [
        "drive.mount('/content/drive/')"
      ],
      "execution_count": null,
      "outputs": []
    },
    {
      "cell_type": "code",
      "metadata": {
        "id": "SgPf2sqP3gpV",
        "colab_type": "code",
        "colab": {}
      },
      "source": [
        "#to not show cell output-- too long\n",
        "%%capture\n",
        "!unzip -q \"/content/drive/My Drive/Colab Notebooks/TLAC/wiki_art.zip\""
      ],
      "execution_count": null,
      "outputs": []
    },
    {
      "cell_type": "code",
      "metadata": {
        "id": "LrqdHojAJ3By",
        "colab_type": "code",
        "colab": {}
      },
      "source": [
        "def set_organization(dset):\n",
        "  \n",
        "  path=\"/content/wiki_art/{}\".format(dset)\n",
        "\n",
        "  for filename in os.listdir(path):\n",
        "    os.rename(os.path.join(path, filename), os.path.join(path, re.sub('[^A-Za-z0-9]+(?![^.]*$)', '',filename)))\n",
        "\n",
        "  n_files = len(list(os.listdir(path)))\n",
        "  !ls $path\n",
        "  print(\"elements_{}_set={} \".format(dset,n_files))\n"
      ],
      "execution_count": null,
      "outputs": []
    },
    {
      "cell_type": "code",
      "metadata": {
        "id": "VdZIDPXs_9ev",
        "colab_type": "code",
        "colab": {}
      },
      "source": [
        "%%capture\n",
        "set_organization(\"train\")"
      ],
      "execution_count": null,
      "outputs": []
    },
    {
      "cell_type": "code",
      "metadata": {
        "id": "xg0xGrRqAwfH",
        "colab_type": "code",
        "colab": {}
      },
      "source": [
        "%%capture\n",
        "set_organization(\"test\")"
      ],
      "execution_count": null,
      "outputs": []
    },
    {
      "cell_type": "code",
      "metadata": {
        "id": "Fr0m4ZudEpwZ",
        "colab_type": "code",
        "colab": {
          "base_uri": "https://localhost:8080/",
          "height": 34
        },
        "outputId": "d4665722-9fcf-4184-c42e-551cd91bdfb6"
      },
      "source": [
        "path = Path('/content/wiki_art')\n",
        "path.ls()"
      ],
      "execution_count": null,
      "outputs": [
        {
          "output_type": "execute_result",
          "data": {
            "text/plain": [
              "(#2) [Path('/content/wiki_art/test'),Path('/content/wiki_art/train')]"
            ]
          },
          "metadata": {
            "tags": []
          },
          "execution_count": 10
        }
      ]
    },
    {
      "cell_type": "code",
      "metadata": {
        "id": "f-wz728mlNbo",
        "colab_type": "code",
        "colab": {}
      },
      "source": [
        "texts = get_files(path, extensions=['.txt'], folders=['train', 'test'])"
      ],
      "execution_count": null,
      "outputs": []
    },
    {
      "cell_type": "code",
      "metadata": {
        "id": "-1tm3aUZsMGa",
        "colab_type": "code",
        "colab": {}
      },
      "source": [
        "def read_file(f): return L(f.read().split(' '))"
      ],
      "execution_count": null,
      "outputs": []
    },
    {
      "cell_type": "code",
      "metadata": {
        "id": "BJC1LzMksRUO",
        "colab_type": "code",
        "colab": {
          "base_uri": "https://localhost:8080/",
          "height": 17
        },
        "outputId": "61cc07d0-4988-4998-df2d-871f8d23a0b0"
      },
      "source": [
        "splits = RandomSplitter(valid_pct=0.1)(texts)\n",
        "tfms = [Tokenizer.from_folder(path), Numericalize()]\n",
        "dsets = Datasets(texts, [tfms], splits=splits, dl_type=LMDataLoader)"
      ],
      "execution_count": null,
      "outputs": [
        {
          "output_type": "display_data",
          "data": {
            "text/html": [
              ""
            ],
            "text/plain": [
              "<IPython.core.display.HTML object>"
            ]
          },
          "metadata": {
            "tags": []
          }
        }
      ]
    },
    {
      "cell_type": "code",
      "metadata": {
        "id": "GZgnzpNi3Joj",
        "colab_type": "code",
        "colab": {}
      },
      "source": [
        "pickle.dump(dsets, open(f'/content/dsets.pkl','wb'))"
      ],
      "execution_count": null,
      "outputs": []
    },
    {
      "cell_type": "code",
      "metadata": {
        "id": "RzMlfU35M7a8",
        "colab_type": "code",
        "colab": {}
      },
      "source": [
        "!zip -r \"/content/wiki_art_tok.zip\" \"/content/wiki_art_tok/\""
      ],
      "execution_count": null,
      "outputs": []
    },
    {
      "cell_type": "code",
      "metadata": {
        "id": "aRoBiHxd1Tb-",
        "colab_type": "code",
        "colab": {}
      },
      "source": [
        "!mv \"/content/dsets.pkl\" \"/content/drive/My Drive/Colab Notebooks/TLAC\""
      ],
      "execution_count": null,
      "outputs": []
    },
    {
      "cell_type": "code",
      "metadata": {
        "colab_type": "code",
        "id": "W678iNRD8FdJ",
        "colab": {}
      },
      "source": [
        "!mv \"/content/wiki_art_tok.zip\" \"/content/drive/My Drive/Colab Notebooks/TLAC\""
      ],
      "execution_count": null,
      "outputs": []
    },
    {
      "cell_type": "markdown",
      "metadata": {
        "id": "wfvzvPxA-zpW",
        "colab_type": "text"
      },
      "source": [
        "# Language model\n",
        "\n"
      ]
    },
    {
      "cell_type": "code",
      "metadata": {
        "colab_type": "code",
        "id": "HOUuytmv15qG",
        "colab": {}
      },
      "source": [
        "drive.mount('/content/drive/')"
      ],
      "execution_count": null,
      "outputs": []
    },
    {
      "cell_type": "code",
      "metadata": {
        "id": "ORpmn5in1_os",
        "colab_type": "code",
        "colab": {}
      },
      "source": [
        "!unzip -q \"/content/drive/My Drive/Colab Notebooks/TLAC/wiki_art_tok.zip\""
      ],
      "execution_count": null,
      "outputs": []
    },
    {
      "cell_type": "code",
      "metadata": {
        "id": "RQUAi6ytCpMt",
        "colab_type": "code",
        "colab": {}
      },
      "source": [
        "%%capture\n",
        "!unzip /content/wiki_art_tok.zip"
      ],
      "execution_count": null,
      "outputs": []
    },
    {
      "cell_type": "code",
      "metadata": {
        "id": "PELiq8kCGeki",
        "colab_type": "code",
        "colab": {}
      },
      "source": [
        "!mv \"/content/content/wiki_art_tok\" \"/content/\""
      ],
      "execution_count": null,
      "outputs": []
    },
    {
      "cell_type": "code",
      "metadata": {
        "id": "PV6v1wWC4k6_",
        "colab_type": "code",
        "colab": {}
      },
      "source": [
        "dsets = pickle.load(open(f'/content/drive/My Drive/Colab Notebooks/TLAC/dsets.pkl','rb'))"
      ],
      "execution_count": null,
      "outputs": []
    },
    {
      "cell_type": "code",
      "metadata": {
        "id": "r06vFynuAfBc",
        "colab_type": "code",
        "colab": {}
      },
      "source": [
        "#dsets #wiki_art_tok"
      ],
      "execution_count": null,
      "outputs": []
    },
    {
      "cell_type": "code",
      "metadata": {
        "id": "8AasEbDD0Kf4",
        "colab_type": "code",
        "colab": {}
      },
      "source": [
        "bs,sl=32,80\n",
        "dbunch_lm = dsets.dataloaders(bs=bs, seq_len=sl, val_bs=bs)"
      ],
      "execution_count": null,
      "outputs": []
    },
    {
      "cell_type": "code",
      "metadata": {
        "id": "OgCg1skT0UbS",
        "colab_type": "code",
        "colab": {}
      },
      "source": [
        "dbunch_lm.show_batch()"
      ],
      "execution_count": null,
      "outputs": []
    },
    {
      "cell_type": "code",
      "metadata": {
        "id": "2R_oBTfY0o_a",
        "colab_type": "code",
        "colab": {}
      },
      "source": [
        "#learn = language_model_learner(dbunch_lm, AWD_LSTM, drop_mult=0.3)"
      ],
      "execution_count": null,
      "outputs": []
    },
    {
      "cell_type": "code",
      "metadata": {
        "id": "RX-sqvhAgAGY",
        "colab_type": "code",
        "colab": {}
      },
      "source": [
        "opt_func = partial(Adam, wd=0.1)\n",
        "learn = language_model_learner(dbunch_lm, AWD_LSTM, opt_func=opt_func, metrics=accuracy)\n",
        "learn = learn.to_fp16(clip=0.1)"
      ],
      "execution_count": null,
      "outputs": []
    },
    {
      "cell_type": "code",
      "metadata": {
        "id": "VVG3G7VmAWe_",
        "colab_type": "code",
        "colab": {
          "base_uri": "https://localhost:8080/",
          "height": 300
        },
        "outputId": "7c53efad-ec82-4f92-b02a-0760d6afbeb4"
      },
      "source": [
        "learn.lr_find()"
      ],
      "execution_count": null,
      "outputs": [
        {
          "output_type": "display_data",
          "data": {
            "text/html": [
              ""
            ],
            "text/plain": [
              "<IPython.core.display.HTML object>"
            ]
          },
          "metadata": {
            "tags": []
          }
        },
        {
          "output_type": "execute_result",
          "data": {
            "text/plain": [
              "SuggestedLRs(lr_min=0.07585775852203369, lr_steep=0.0691830962896347)"
            ]
          },
          "metadata": {
            "tags": []
          },
          "execution_count": 22
        },
        {
          "output_type": "display_data",
          "data": {
            "image/png": "[encoded data removed]",
            "text/plain": [
              "<Figure size 432x288 with 1 Axes>"
            ]
          },
          "metadata": {
            "tags": [],
            "needs_background": "light"
          }
        }
      ]
    },
    {
      "cell_type": "code",
      "metadata": {
        "id": "YU-YNiO30yKY",
        "colab_type": "code",
        "colab": {}
      },
      "source": [
        "learn.fit_one_cycle(1, 7e-2, moms=[0.8,0.7,0.8])"
      ],
      "execution_count": null,
      "outputs": []
    },
    {
      "cell_type": "code",
      "metadata": {
        "id": "X84diVyWIe-a",
        "colab_type": "code",
        "colab": {}
      },
      "source": [
        "learn.save('wm1')"
      ],
      "execution_count": null,
      "outputs": []
    },
    {
      "cell_type": "code",
      "metadata": {
        "id": "xLimtwCr5f2t",
        "colab_type": "code",
        "colab": {
          "base_uri": "https://localhost:8080/",
          "height": 51
        },
        "outputId": "4d13d9ef-4425-46d6-ec86-7b944ecf2d31"
      },
      "source": [
        "!zip -r /content/models.zip /content/models"
      ],
      "execution_count": null,
      "outputs": [
        {
          "output_type": "stream",
          "text": [
            "  adding: content/models/ (stored 0%)\n",
            "  adding: content/models/wm1.pth (deflated 23%)\n"
          ],
          "name": "stdout"
        }
      ]
    },
    {
      "cell_type": "code",
      "metadata": {
        "id": "VJbxnPgX5gDa",
        "colab_type": "code",
        "colab": {
          "base_uri": "https://localhost:8080/",
          "height": 17
        },
        "outputId": "1ef5104c-c086-4579-8f50-58c768f6a932"
      },
      "source": [
        "from google.colab import files\n",
        "files.download(\"/content/models.zip\")"
      ],
      "execution_count": null,
      "outputs": [
        {
          "output_type": "display_data",
          "data": {
            "application/javascript": [
              "\n",
              "    async function download(id, filename, size) {\n",
              "      if (!google.colab.kernel.accessAllowed) {\n",
              "        return;\n",
              "      }\n",
              "      const div = document.createElement('div');\n",
              "      const label = document.createElement('label');\n",
              "      label.textContent = `Downloading \"${filename}\": `;\n",
              "      div.appendChild(label);\n",
              "      const progress = document.createElement('progress');\n",
              "      progress.max = size;\n",
              "      div.appendChild(progress);\n",
              "      document.body.appendChild(div);\n",
              "\n",
              "      const buffers = [];\n",
              "      let downloaded = 0;\n",
              "\n",
              "      const channel = await google.colab.kernel.comms.open(id);\n",
              "      // Send a message to notify the kernel that we're ready.\n",
              "      channel.send({})\n",
              "\n",
              "      for await (const message of channel.messages) {\n",
              "        // Send a message to notify the kernel that we're ready.\n",
              "        channel.send({})\n",
              "        if (message.buffers) {\n",
              "          for (const buffer of message.buffers) {\n",
              "            buffers.push(buffer);\n",
              "            downloaded += buffer.byteLength;\n",
              "            progress.value = downloaded;\n",
              "          }\n",
              "        }\n",
              "      }\n",
              "      const blob = new Blob(buffers, {type: 'application/binary'});\n",
              "      const a = document.createElement('a');\n",
              "      a.href = window.URL.createObjectURL(blob);\n",
              "      a.download = filename;\n",
              "      div.appendChild(a);\n",
              "      a.click();\n",
              "      div.remove();\n",
              "    }\n",
              "  "
            ],
            "text/plain": [
              "<IPython.core.display.Javascript object>"
            ]
          },
          "metadata": {
            "tags": []
          }
        },
        {
          "output_type": "display_data",
          "data": {
            "application/javascript": [
              "download(\"download_df88e473-ba69-4725-9dc8-fdc9b65e289a\", \"models.zip\", 284412755)"
            ],
            "text/plain": [
              "<IPython.core.display.Javascript object>"
            ]
          },
          "metadata": {
            "tags": []
          }
        }
      ]
    },
    {
      "cell_type": "code",
      "metadata": {
        "id": "LtA_DunM2ytQ",
        "colab_type": "code",
        "colab": {
          "base_uri": "https://localhost:8080/",
          "height": 34
        },
        "outputId": "bc459b4b-ccad-4478-8ea6-e1ec0522f254"
      },
      "source": [
        "learn.validate()"
      ],
      "execution_count": null,
      "outputs": [
        {
          "output_type": "display_data",
          "data": {
            "text/html": [
              ""
            ],
            "text/plain": [
              "<IPython.core.display.HTML object>"
            ]
          },
          "metadata": {
            "tags": []
          }
        },
        {
          "output_type": "execute_result",
          "data": {
            "text/plain": [
              "(#2) [4.04564094543457,0.30051788687705994]"
            ]
          },
          "metadata": {
            "tags": []
          },
          "execution_count": 27
        }
      ]
    }
  ]
}