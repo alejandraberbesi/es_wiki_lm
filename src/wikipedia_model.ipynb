{
  "nbformat": 4,
  "nbformat_minor": 0,
  "metadata": {
    "colab": {
      "name": "wikipedia_model.ipynb",
      "provenance": [],
      "toc_visible": true,
      "authorship_tag": "ABX9TyOqgkKfUgaM1df6L8qfPgUS"
    },
    "kernelspec": {
      "name": "python3",
      "display_name": "Python 3"
    },
    "accelerator": "GPU"
  },
  "cells": [
    {
      "cell_type": "markdown",
      "metadata": {
        "id": "X9CZGePic3VD",
        "colab_type": "text"
      },
      "source": [
        "# **Wikipedia spanish language model**"
      ]
    },
    {
      "cell_type": "code",
      "metadata": {
        "id": "2mAto-n4FNEc",
        "colab_type": "code",
        "colab": {
          "base_uri": "https://localhost:8080/",
          "height": 136
        },
        "outputId": "94664e92-a644-44a7-b2c0-d12cae3b586b"
      },
      "source": [
        "!git clone https://github.com/fastai/fastai2.git"
      ],
      "execution_count": 1,
      "outputs": [
        {
          "output_type": "stream",
          "text": [
            "Cloning into 'fastai2'...\n",
            "remote: Enumerating objects: 55, done.\u001b[K\n",
            "remote: Counting objects: 100% (55/55), done.\u001b[K\n",
            "remote: Compressing objects: 100% (48/48), done.\u001b[K\n",
            "remote: Total 8576 (delta 27), reused 16 (delta 5), pack-reused 8521\u001b[K\n",
            "Receiving objects: 100% (8576/8576), 493.94 MiB | 16.59 MiB/s, done.\n",
            "Resolving deltas: 100% (6887/6887), done.\n"
          ],
          "name": "stdout"
        }
      ]
    },
    {
      "cell_type": "code",
      "metadata": {
        "id": "hJs2N8y2IyU6",
        "colab_type": "code",
        "colab": {
          "base_uri": "https://localhost:8080/",
          "height": 802
        },
        "outputId": "7dec15ab-1d26-4476-ebf0-5888cda63150"
      },
      "source": [
        "!pip install fastai2"
      ],
      "execution_count": 2,
      "outputs": [
        {
          "output_type": "stream",
          "text": [
            "Collecting fastai2\n",
            "\u001b[?25l  Downloading https://files.pythonhosted.org/packages/f4/7c/ebd63a93bd77c76bd36787a934f3e0aa8832434dfb01a97dc9b31e3d3610/fastai2-0.0.18-py3-none-any.whl (192kB)\n",
            "\r\u001b[K     |█▊                              | 10kB 22.9MB/s eta 0:00:01\r\u001b[K     |███▍                            | 20kB 6.6MB/s eta 0:00:01\r\u001b[K     |█████                           | 30kB 7.5MB/s eta 0:00:01\r\u001b[K     |██████▉                         | 40kB 8.3MB/s eta 0:00:01\r\u001b[K     |████████▌                       | 51kB 7.2MB/s eta 0:00:01\r\u001b[K     |██████████▏                     | 61kB 8.3MB/s eta 0:00:01\r\u001b[K     |████████████                    | 71kB 8.7MB/s eta 0:00:01\r\u001b[K     |█████████████▋                  | 81kB 9.2MB/s eta 0:00:01\r\u001b[K     |███████████████▎                | 92kB 9.3MB/s eta 0:00:01\r\u001b[K     |█████████████████               | 102kB 9.5MB/s eta 0:00:01\r\u001b[K     |██████████████████▊             | 112kB 9.5MB/s eta 0:00:01\r\u001b[K     |████████████████████▍           | 122kB 9.5MB/s eta 0:00:01\r\u001b[K     |██████████████████████▏         | 133kB 9.5MB/s eta 0:00:01\r\u001b[K     |███████████████████████▉        | 143kB 9.5MB/s eta 0:00:01\r\u001b[K     |█████████████████████████▌      | 153kB 9.5MB/s eta 0:00:01\r\u001b[K     |███████████████████████████▎    | 163kB 9.5MB/s eta 0:00:01\r\u001b[K     |█████████████████████████████   | 174kB 9.5MB/s eta 0:00:01\r\u001b[K     |██████████████████████████████▋ | 184kB 9.5MB/s eta 0:00:01\r\u001b[K     |████████████████████████████████| 194kB 9.5MB/s \n",
            "\u001b[?25hRequirement already satisfied: scikit-learn in /usr/local/lib/python3.6/dist-packages (from fastai2) (0.22.2.post1)\n",
            "Requirement already satisfied: fastprogress>=0.1.22 in /usr/local/lib/python3.6/dist-packages (from fastai2) (0.2.3)\n",
            "Requirement already satisfied: torchvision>=0.5 in /usr/local/lib/python3.6/dist-packages (from fastai2) (0.6.1+cu101)\n",
            "Collecting fastcore\n",
            "  Downloading https://files.pythonhosted.org/packages/d9/62/5b059be77452d6af84639701f2e8c88124abcd43997b7a010417838b4547/fastcore-0.1.19-py3-none-any.whl\n",
            "Requirement already satisfied: scipy in /usr/local/lib/python3.6/dist-packages (from fastai2) (1.4.1)\n",
            "Requirement already satisfied: pillow in /usr/local/lib/python3.6/dist-packages (from fastai2) (7.0.0)\n",
            "Requirement already satisfied: pyyaml in /usr/local/lib/python3.6/dist-packages (from fastai2) (3.13)\n",
            "Requirement already satisfied: spacy in /usr/local/lib/python3.6/dist-packages (from fastai2) (2.2.4)\n",
            "Requirement already satisfied: pandas in /usr/local/lib/python3.6/dist-packages (from fastai2) (1.0.5)\n",
            "Requirement already satisfied: torch>=1.3.0 in /usr/local/lib/python3.6/dist-packages (from fastai2) (1.5.1+cu101)\n",
            "Requirement already satisfied: requests in /usr/local/lib/python3.6/dist-packages (from fastai2) (2.23.0)\n",
            "Requirement already satisfied: matplotlib in /usr/local/lib/python3.6/dist-packages (from fastai2) (3.2.2)\n",
            "Requirement already satisfied: joblib>=0.11 in /usr/local/lib/python3.6/dist-packages (from scikit-learn->fastai2) (0.16.0)\n",
            "Requirement already satisfied: numpy>=1.11.0 in /usr/local/lib/python3.6/dist-packages (from scikit-learn->fastai2) (1.18.5)\n",
            "Requirement already satisfied: dataclasses>='0.7'; python_version < \"3.7\" in /usr/local/lib/python3.6/dist-packages (from fastcore->fastai2) (0.7)\n",
            "Requirement already satisfied: catalogue<1.1.0,>=0.0.7 in /usr/local/lib/python3.6/dist-packages (from spacy->fastai2) (1.0.0)\n",
            "Requirement already satisfied: plac<1.2.0,>=0.9.6 in /usr/local/lib/python3.6/dist-packages (from spacy->fastai2) (1.1.3)\n",
            "Requirement already satisfied: thinc==7.4.0 in /usr/local/lib/python3.6/dist-packages (from spacy->fastai2) (7.4.0)\n",
            "Requirement already satisfied: preshed<3.1.0,>=3.0.2 in /usr/local/lib/python3.6/dist-packages (from spacy->fastai2) (3.0.2)\n",
            "Requirement already satisfied: setuptools in /usr/local/lib/python3.6/dist-packages (from spacy->fastai2) (49.1.0)\n",
            "Requirement already satisfied: tqdm<5.0.0,>=4.38.0 in /usr/local/lib/python3.6/dist-packages (from spacy->fastai2) (4.41.1)\n",
            "Requirement already satisfied: srsly<1.1.0,>=1.0.2 in /usr/local/lib/python3.6/dist-packages (from spacy->fastai2) (1.0.2)\n",
            "Requirement already satisfied: cymem<2.1.0,>=2.0.2 in /usr/local/lib/python3.6/dist-packages (from spacy->fastai2) (2.0.3)\n",
            "Requirement already satisfied: wasabi<1.1.0,>=0.4.0 in /usr/local/lib/python3.6/dist-packages (from spacy->fastai2) (0.7.1)\n",
            "Requirement already satisfied: murmurhash<1.1.0,>=0.28.0 in /usr/local/lib/python3.6/dist-packages (from spacy->fastai2) (1.0.2)\n",
            "Requirement already satisfied: blis<0.5.0,>=0.4.0 in /usr/local/lib/python3.6/dist-packages (from spacy->fastai2) (0.4.1)\n",
            "Requirement already satisfied: python-dateutil>=2.6.1 in /usr/local/lib/python3.6/dist-packages (from pandas->fastai2) (2.8.1)\n",
            "Requirement already satisfied: pytz>=2017.2 in /usr/local/lib/python3.6/dist-packages (from pandas->fastai2) (2018.9)\n",
            "Requirement already satisfied: future in /usr/local/lib/python3.6/dist-packages (from torch>=1.3.0->fastai2) (0.16.0)\n",
            "Requirement already satisfied: chardet<4,>=3.0.2 in /usr/local/lib/python3.6/dist-packages (from requests->fastai2) (3.0.4)\n",
            "Requirement already satisfied: urllib3!=1.25.0,!=1.25.1,<1.26,>=1.21.1 in /usr/local/lib/python3.6/dist-packages (from requests->fastai2) (1.24.3)\n",
            "Requirement already satisfied: idna<3,>=2.5 in /usr/local/lib/python3.6/dist-packages (from requests->fastai2) (2.10)\n",
            "Requirement already satisfied: certifi>=2017.4.17 in /usr/local/lib/python3.6/dist-packages (from requests->fastai2) (2020.6.20)\n",
            "Requirement already satisfied: pyparsing!=2.0.4,!=2.1.2,!=2.1.6,>=2.0.1 in /usr/local/lib/python3.6/dist-packages (from matplotlib->fastai2) (2.4.7)\n",
            "Requirement already satisfied: kiwisolver>=1.0.1 in /usr/local/lib/python3.6/dist-packages (from matplotlib->fastai2) (1.2.0)\n",
            "Requirement already satisfied: cycler>=0.10 in /usr/local/lib/python3.6/dist-packages (from matplotlib->fastai2) (0.10.0)\n",
            "Requirement already satisfied: importlib-metadata>=0.20; python_version < \"3.8\" in /usr/local/lib/python3.6/dist-packages (from catalogue<1.1.0,>=0.0.7->spacy->fastai2) (1.7.0)\n",
            "Requirement already satisfied: six>=1.5 in /usr/local/lib/python3.6/dist-packages (from python-dateutil>=2.6.1->pandas->fastai2) (1.15.0)\n",
            "Requirement already satisfied: zipp>=0.5 in /usr/local/lib/python3.6/dist-packages (from importlib-metadata>=0.20; python_version < \"3.8\"->catalogue<1.1.0,>=0.0.7->spacy->fastai2) (3.1.0)\n",
            "Installing collected packages: fastcore, fastai2\n",
            "Successfully installed fastai2-0.0.18 fastcore-0.1.19\n"
          ],
          "name": "stdout"
        }
      ]
    },
    {
      "cell_type": "code",
      "metadata": {
        "id": "TCM0-2g-ZKLg",
        "colab_type": "code",
        "colab": {}
      },
      "source": [
        "from google.colab import drive, files\n",
        "import zipfile\n",
        "import os\n",
        "import re\n",
        "from pathlib import Path\n",
        "from fastai2.text.all import *\n",
        "import dill as pickle"
      ],
      "execution_count": 3,
      "outputs": []
    },
    {
      "cell_type": "code",
      "metadata": {
        "id": "D6HMztMddV7m",
        "colab_type": "code",
        "colab": {
          "base_uri": "https://localhost:8080/",
          "height": 122
        },
        "outputId": "c8e5f9b5-acc9-41b0-c88a-cf64785937e2"
      },
      "source": [
        "drive.mount('/content/drive/')"
      ],
      "execution_count": 5,
      "outputs": [
        {
          "output_type": "stream",
          "text": [
            "Go to this URL in a browser: https://accounts.google.com/o/oauth2/auth?client_id=947318989803-6bn6qk8qdgf4n4g3pfee6491hc0brc4i.apps.googleusercontent.com&redirect_uri=urn%3aietf%3awg%3aoauth%3a2.0%3aoob&response_type=code&scope=email%20https%3a%2f%2fwww.googleapis.com%2fauth%2fdocs.test%20https%3a%2f%2fwww.googleapis.com%2fauth%2fdrive%20https%3a%2f%2fwww.googleapis.com%2fauth%2fdrive.photos.readonly%20https%3a%2f%2fwww.googleapis.com%2fauth%2fpeopleapi.readonly\n",
            "\n",
            "Enter your authorization code:\n",
            "··········\n",
            "Mounted at /content/drive/\n"
          ],
          "name": "stdout"
        }
      ]
    },
    {
      "cell_type": "markdown",
      "metadata": {
        "id": "dQLc4AoH9HEU",
        "colab_type": "text"
      },
      "source": [
        "### Data preparation (Results in drive)"
      ]
    },
    {
      "cell_type": "markdown",
      "metadata": {
        "id": "cL-GJbSP-9sO",
        "colab_type": "text"
      },
      "source": [
        "Connecting drive, train and test set organization, tokenization, numericalization and creation of LMDataLoader"
      ]
    },
    {
      "cell_type": "code",
      "metadata": {
        "id": "SgPf2sqP3gpV",
        "colab_type": "code",
        "colab": {}
      },
      "source": [
        "#to not show cell output-- too long\n",
        "%%capture\n",
        "!unzip -q \"/content/drive/My Drive/Colab Notebooks/TLAC/wiki_art.zip\""
      ],
      "execution_count": null,
      "outputs": []
    },
    {
      "cell_type": "code",
      "metadata": {
        "id": "LrqdHojAJ3By",
        "colab_type": "code",
        "colab": {}
      },
      "source": [
        "def set_organization(dset):\n",
        "  \n",
        "  path=\"/content/wiki_art/{}\".format(dset)\n",
        "\n",
        "  for filename in os.listdir(path):\n",
        "    os.rename(os.path.join(path, filename), os.path.join(path, re.sub('[^A-Za-z0-9]+(?![^.]*$)', '',filename)))\n",
        "\n",
        "  n_files = len(list(os.listdir(path)))\n",
        "  !ls $path\n",
        "  print(\"elements_{}_set={} \".format(dset,n_files))\n"
      ],
      "execution_count": null,
      "outputs": []
    },
    {
      "cell_type": "code",
      "metadata": {
        "id": "VdZIDPXs_9ev",
        "colab_type": "code",
        "colab": {}
      },
      "source": [
        "%%capture\n",
        "set_organization(\"train\")"
      ],
      "execution_count": null,
      "outputs": []
    },
    {
      "cell_type": "code",
      "metadata": {
        "id": "xg0xGrRqAwfH",
        "colab_type": "code",
        "colab": {}
      },
      "source": [
        "%%capture\n",
        "set_organization(\"test\")"
      ],
      "execution_count": null,
      "outputs": []
    },
    {
      "cell_type": "code",
      "metadata": {
        "id": "Fr0m4ZudEpwZ",
        "colab_type": "code",
        "colab": {
          "base_uri": "https://localhost:8080/",
          "height": 34
        },
        "outputId": "d4665722-9fcf-4184-c42e-551cd91bdfb6"
      },
      "source": [
        "path = Path('/content/wiki_art')\n",
        "path.ls()"
      ],
      "execution_count": null,
      "outputs": [
        {
          "output_type": "execute_result",
          "data": {
            "text/plain": [
              "(#2) [Path('/content/wiki_art/test'),Path('/content/wiki_art/train')]"
            ]
          },
          "metadata": {
            "tags": []
          },
          "execution_count": 10
        }
      ]
    },
    {
      "cell_type": "code",
      "metadata": {
        "id": "f-wz728mlNbo",
        "colab_type": "code",
        "colab": {}
      },
      "source": [
        "texts = get_files(path, extensions=['.txt'], folders=['train', 'test'])"
      ],
      "execution_count": null,
      "outputs": []
    },
    {
      "cell_type": "code",
      "metadata": {
        "id": "-1tm3aUZsMGa",
        "colab_type": "code",
        "colab": {}
      },
      "source": [
        "def read_file(f): return L(f.read().split(' '))"
      ],
      "execution_count": null,
      "outputs": []
    },
    {
      "cell_type": "code",
      "metadata": {
        "id": "BJC1LzMksRUO",
        "colab_type": "code",
        "colab": {
          "base_uri": "https://localhost:8080/",
          "height": 17
        },
        "outputId": "61cc07d0-4988-4998-df2d-871f8d23a0b0"
      },
      "source": [
        "splits = RandomSplitter(valid_pct=0.1)(texts)\n",
        "tfms = [Tokenizer.from_folder(path), Numericalize()]\n",
        "dsets = Datasets(texts, [tfms], splits=splits, dl_type=LMDataLoader)"
      ],
      "execution_count": null,
      "outputs": [
        {
          "output_type": "display_data",
          "data": {
            "text/html": [
              ""
            ],
            "text/plain": [
              "<IPython.core.display.HTML object>"
            ]
          },
          "metadata": {
            "tags": []
          }
        }
      ]
    },
    {
      "cell_type": "code",
      "metadata": {
        "id": "GZgnzpNi3Joj",
        "colab_type": "code",
        "colab": {}
      },
      "source": [
        "pickle.dump(dsets, open(f'/content/dsets.pkl','wb'))"
      ],
      "execution_count": null,
      "outputs": []
    },
    {
      "cell_type": "code",
      "metadata": {
        "id": "RzMlfU35M7a8",
        "colab_type": "code",
        "colab": {}
      },
      "source": [
        "!zip -r \"/content/wiki_art_tok.zip\" \"/content/wiki_art_tok/\""
      ],
      "execution_count": null,
      "outputs": []
    },
    {
      "cell_type": "code",
      "metadata": {
        "id": "aRoBiHxd1Tb-",
        "colab_type": "code",
        "colab": {}
      },
      "source": [
        "!mv \"/content/dsets.pkl\" \"/content/drive/My Drive/Colab Notebooks/TLAC\""
      ],
      "execution_count": null,
      "outputs": []
    },
    {
      "cell_type": "code",
      "metadata": {
        "colab_type": "code",
        "id": "W678iNRD8FdJ",
        "colab": {}
      },
      "source": [
        "!mv \"/content/wiki_art_tok.zip\" \"/content/drive/My Drive/Colab Notebooks/TLAC\""
      ],
      "execution_count": null,
      "outputs": []
    },
    {
      "cell_type": "markdown",
      "metadata": {
        "id": "wfvzvPxA-zpW",
        "colab_type": "text"
      },
      "source": [
        "##Model\n",
        "\n"
      ]
    },
    {
      "cell_type": "code",
      "metadata": {
        "id": "ORpmn5in1_os",
        "colab_type": "code",
        "colab": {}
      },
      "source": [
        "!unzip -q \"/content/drive/My Drive/Colab Notebooks/TLAC/wiki_art_tok.zip\""
      ],
      "execution_count": 9,
      "outputs": []
    },
    {
      "cell_type": "code",
      "metadata": {
        "id": "RQUAi6ytCpMt",
        "colab_type": "code",
        "colab": {}
      },
      "source": [
        "%%capture\n",
        "!unzip /content/wiki_art_tok.zip"
      ],
      "execution_count": 10,
      "outputs": []
    },
    {
      "cell_type": "code",
      "metadata": {
        "id": "PELiq8kCGeki",
        "colab_type": "code",
        "colab": {}
      },
      "source": [
        "!mv \"/content/content/wiki_art_tok\" \"/content/\""
      ],
      "execution_count": 11,
      "outputs": []
    },
    {
      "cell_type": "code",
      "metadata": {
        "id": "PV6v1wWC4k6_",
        "colab_type": "code",
        "colab": {}
      },
      "source": [
        "dsets = pickle.load(open(f'/content/drive/My Drive/Colab Notebooks/TLAC/dsets.pkl','rb'))"
      ],
      "execution_count": 12,
      "outputs": []
    },
    {
      "cell_type": "code",
      "metadata": {
        "id": "8AasEbDD0Kf4",
        "colab_type": "code",
        "colab": {}
      },
      "source": [
        "bs,sl=32,80\n",
        "dbunch_lm = dsets.dataloaders(bs=bs, seq_len=sl, val_bs=bs)"
      ],
      "execution_count": 13,
      "outputs": []
    },
    {
      "cell_type": "code",
      "metadata": {
        "id": "OgCg1skT0UbS",
        "colab_type": "code",
        "colab": {}
      },
      "source": [
        "dbunch_lm.show_batch()"
      ],
      "execution_count": null,
      "outputs": []
    },
    {
      "cell_type": "code",
      "metadata": {
        "id": "RX-sqvhAgAGY",
        "colab_type": "code",
        "colab": {
          "base_uri": "https://localhost:8080/",
          "height": 17
        },
        "outputId": "f1ab8dc9-627f-4967-a7c8-1274f928ba5c"
      },
      "source": [
        "opt_func = partial(Adam, wd=0.1)\n",
        "learn = language_model_learner(dbunch_lm, AWD_LSTM, opt_func=opt_func, metrics=accuracy)\n",
        "learn = learn.to_fp16(clip=0.1)"
      ],
      "execution_count": 14,
      "outputs": [
        {
          "output_type": "display_data",
          "data": {
            "text/html": [
              ""
            ],
            "text/plain": [
              "<IPython.core.display.HTML object>"
            ]
          },
          "metadata": {
            "tags": []
          }
        }
      ]
    },
    {
      "cell_type": "markdown",
      "metadata": {
        "id": "IdMbAoUk8HZv",
        "colab_type": "text"
      },
      "source": [
        "###Training (Results in drive)"
      ]
    },
    {
      "cell_type": "code",
      "metadata": {
        "id": "VVG3G7VmAWe_",
        "colab_type": "code",
        "colab": {
          "base_uri": "https://localhost:8080/",
          "height": 300
        },
        "outputId": "7c53efad-ec82-4f92-b02a-0760d6afbeb4"
      },
      "source": [
        "learn.lr_find()"
      ],
      "execution_count": null,
      "outputs": [
        {
          "output_type": "display_data",
          "data": {
            "text/html": [
              ""
            ],
            "text/plain": [
              "<IPython.core.display.HTML object>"
            ]
          },
          "metadata": {
            "tags": []
          }
        },
        {
          "output_type": "execute_result",
          "data": {
            "text/plain": [
              "SuggestedLRs(lr_min=0.07585775852203369, lr_steep=0.0691830962896347)"
            ]
          },
          "metadata": {
            "tags": []
          },
          "execution_count": 22
        },
        {
          "output_type": "display_data",
          "data": {
            "image/png": "[encoded data removed]",
            "text/plain": [
              "<Figure size 432x288 with 1 Axes>"
            ]
          },
          "metadata": {
            "tags": [],
            "needs_background": "light"
          }
        }
      ]
    },
    {
      "cell_type": "code",
      "metadata": {
        "id": "YU-YNiO30yKY",
        "colab_type": "code",
        "colab": {}
      },
      "source": [
        "learn.fit_one_cycle(1, 7e-2, moms=[0.8,0.7,0.8])"
      ],
      "execution_count": null,
      "outputs": []
    },
    {
      "cell_type": "code",
      "metadata": {
        "id": "X84diVyWIe-a",
        "colab_type": "code",
        "colab": {}
      },
      "source": [
        "learn.save('wm1')"
      ],
      "execution_count": null,
      "outputs": []
    },
    {
      "cell_type": "code",
      "metadata": {
        "id": "xLimtwCr5f2t",
        "colab_type": "code",
        "colab": {
          "base_uri": "https://localhost:8080/",
          "height": 51
        },
        "outputId": "4d13d9ef-4425-46d6-ec86-7b944ecf2d31"
      },
      "source": [
        "!zip -r /content/models.zip /content/models"
      ],
      "execution_count": null,
      "outputs": [
        {
          "output_type": "stream",
          "text": [
            "  adding: content/models/ (stored 0%)\n",
            "  adding: content/models/wm1.pth (deflated 23%)\n"
          ],
          "name": "stdout"
        }
      ]
    },
    {
      "cell_type": "code",
      "metadata": {
        "id": "VJbxnPgX5gDa",
        "colab_type": "code",
        "colab": {
          "base_uri": "https://localhost:8080/",
          "height": 17
        },
        "outputId": "1ef5104c-c086-4579-8f50-58c768f6a932"
      },
      "source": [
        "files.download(\"/content/models.zip\")"
      ],
      "execution_count": null,
      "outputs": [
        {
          "output_type": "display_data",
          "data": {
            "application/javascript": [
              "\n",
              "    async function download(id, filename, size) {\n",
              "      if (!google.colab.kernel.accessAllowed) {\n",
              "        return;\n",
              "      }\n",
              "      const div = document.createElement('div');\n",
              "      const label = document.createElement('label');\n",
              "      label.textContent = `Downloading \"${filename}\": `;\n",
              "      div.appendChild(label);\n",
              "      const progress = document.createElement('progress');\n",
              "      progress.max = size;\n",
              "      div.appendChild(progress);\n",
              "      document.body.appendChild(div);\n",
              "\n",
              "      const buffers = [];\n",
              "      let downloaded = 0;\n",
              "\n",
              "      const channel = await google.colab.kernel.comms.open(id);\n",
              "      // Send a message to notify the kernel that we're ready.\n",
              "      channel.send({})\n",
              "\n",
              "      for await (const message of channel.messages) {\n",
              "        // Send a message to notify the kernel that we're ready.\n",
              "        channel.send({})\n",
              "        if (message.buffers) {\n",
              "          for (const buffer of message.buffers) {\n",
              "            buffers.push(buffer);\n",
              "            downloaded += buffer.byteLength;\n",
              "            progress.value = downloaded;\n",
              "          }\n",
              "        }\n",
              "      }\n",
              "      const blob = new Blob(buffers, {type: 'application/binary'});\n",
              "      const a = document.createElement('a');\n",
              "      a.href = window.URL.createObjectURL(blob);\n",
              "      a.download = filename;\n",
              "      div.appendChild(a);\n",
              "      a.click();\n",
              "      div.remove();\n",
              "    }\n",
              "  "
            ],
            "text/plain": [
              "<IPython.core.display.Javascript object>"
            ]
          },
          "metadata": {
            "tags": []
          }
        },
        {
          "output_type": "display_data",
          "data": {
            "application/javascript": [
              "download(\"download_df88e473-ba69-4725-9dc8-fdc9b65e289a\", \"models.zip\", 284412755)"
            ],
            "text/plain": [
              "<IPython.core.display.Javascript object>"
            ]
          },
          "metadata": {
            "tags": []
          }
        }
      ]
    },
    {
      "cell_type": "markdown",
      "metadata": {
        "id": "wShsy1Ly9ocu",
        "colab_type": "text"
      },
      "source": [
        "###Fine tuning"
      ]
    },
    {
      "cell_type": "code",
      "metadata": {
        "id": "_-kNgFFZCoLR",
        "colab_type": "code",
        "colab": {}
      },
      "source": [
        "%%capture\n",
        "!unzip -q \"/content/drive/My Drive/Colab Notebooks/TLAC/models.zip\""
      ],
      "execution_count": 6,
      "outputs": []
    },
    {
      "cell_type": "code",
      "metadata": {
        "id": "vwwV8eM0L_Ir",
        "colab_type": "code",
        "colab": {}
      },
      "source": [
        "!mv \"/content/content/models\" \"/content/\""
      ],
      "execution_count": 7,
      "outputs": []
    },
    {
      "cell_type": "code",
      "metadata": {
        "id": "4NU196c4MTsN",
        "colab_type": "code",
        "colab": {
          "base_uri": "https://localhost:8080/",
          "height": 34
        },
        "outputId": "b7dd5790-bf48-44ac-ac24-7b494f58a56e"
      },
      "source": [
        "learn.load('wm1')"
      ],
      "execution_count": 16,
      "outputs": [
        {
          "output_type": "execute_result",
          "data": {
            "text/plain": [
              "<fastai2.text.learner.LMLearner at 0x7fac9ae31358>"
            ]
          },
          "metadata": {
            "tags": []
          },
          "execution_count": 16
        }
      ]
    },
    {
      "cell_type": "code",
      "metadata": {
        "id": "LtA_DunM2ytQ",
        "colab_type": "code",
        "colab": {
          "base_uri": "https://localhost:8080/",
          "height": 34
        },
        "outputId": "89749f3c-6cfb-4a79-fca1-57112d752a0f"
      },
      "source": [
        "learn.validate()"
      ],
      "execution_count": 17,
      "outputs": [
        {
          "output_type": "display_data",
          "data": {
            "text/html": [
              ""
            ],
            "text/plain": [
              "<IPython.core.display.HTML object>"
            ]
          },
          "metadata": {
            "tags": []
          }
        },
        {
          "output_type": "execute_result",
          "data": {
            "text/plain": [
              "(#2) [4.0456390380859375,0.300513356924057]"
            ]
          },
          "metadata": {
            "tags": []
          },
          "execution_count": 17
        }
      ]
    }
  ]
}